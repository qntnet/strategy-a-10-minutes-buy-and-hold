{
 "cells": [
  {
   "cell_type": "markdown",
   "metadata": {},
   "source": [
    "# A 10-minute Buy-and-Hold Template\n",
    "\n",
    "This simple template provides basic instructions for helping you within 10 minutes to develop and submit a buy-and-hold strategy on liquid assets."
   ]
  },
  {
   "cell_type": "code",
   "execution_count": null,
   "metadata": {},
   "outputs": [],
   "source": [
    "# Import basic libraries for manipulating data.\n",
    "\n",
    "# Please refer to xarray.pydata.org for xarray documentation.\n",
    "\n",
    "# xarray works optimally with N-dimensional datasets in Python\n",
    "# and is well suited for financial datasets with labels \"time\",\n",
    "# \"field\" and \"asset\". xarray data structures can also be easily\n",
    "# converted to pandas dataframes.\n",
    "\n",
    "import xarray as xr\n",
    "\n",
    "import numpy as np\n",
    "import pandas as pd\n",
    "\n",
    "# Import quantnet libraries.\n",
    "\n",
    "import qnt.data as qndata          # data loading and manipulation\n",
    "import qnt.stepper as qnstepper    # strategy definition\n",
    "import qnt.stats as qnstats        # key statistics\n",
    "import qnt.graph as qngraph        # graphical tools\n",
    "import qnt.forward_looking as qnfl # forward looking checking\n",
    "\n",
    "# display function for fancy displaying:\n",
    "from IPython.display import display"
   ]
  },
  {
   "cell_type": "code",
   "execution_count": null,
   "metadata": {},
   "outputs": [],
   "source": [
    "# Load all available asset names since given date.\n",
    "\n",
    "assets = qndata.load_assets(min_date=\"2010-01-01\")\n",
    "\n",
    "assets_names = [i[\"id\"] for i in assets]\n",
    "\n",
    "# Load all available data since given date.\n",
    "\n",
    "# It is possible to set a max_date in the call in order to\n",
    "# develop the system on a limited in-sample period and later\n",
    "# test the system on unseen data after max_date.\n",
    "\n",
    "# A submission will be accepted only if no max_date is set,\n",
    "# as submissions will be evaluated on live data on a daily basis.\n",
    "\n",
    "data = qndata.load_data(min_date=\"2010-01-01\",\n",
    "                        max_date=\"2019-08-13\", # You should not limit max date for final calculation!\n",
    "                        dims=(\"time\", \"field\", \"asset\"),\n",
    "                        assets=assets_names,\n",
    "                        forward_order=True)"
   ]
  },
  {
   "cell_type": "code",
   "execution_count": null,
   "metadata": {},
   "outputs": [],
   "source": [
    "# A buy-and-hold strategy on liquid assets allocates\n",
    "# constant fractions of capital to all liquid assets.\n",
    "# Here xarray data structures are converted to pandas\n",
    "# dataframes for simplicity in order to describe the\n",
    "# development process.\n",
    "\n",
    "# xarray.DataArray are converted to pandas dataframes:\n",
    "is_liquid = data.loc[:,\"is_liquid\",:].to_pandas()\n",
    "\n",
    "# set and normalize weights:\n",
    "weights = is_liquid.div(is_liquid.abs().sum(axis=1, skipna=True), axis=0)\n",
    "weights = weights.fillna(0.0)\n",
    "\n",
    "# set max columns and rows for display function\n",
    "with pd.option_context(\"display.max_rows\", 5, \"display.max_columns\", 10): \n",
    "    display(weights)"
   ]
  },
  {
   "cell_type": "code",
   "execution_count": null,
   "metadata": {},
   "outputs": [],
   "source": [
    "# check that we are fully invested <=> sum of abs(weights) = 1:\n",
    "with pd.option_context(\"display.max_rows\", 5): \n",
    "    display(weights.abs().sum(axis=1))"
   ]
  },
  {
   "cell_type": "code",
   "execution_count": null,
   "metadata": {},
   "outputs": [],
   "source": [
    "# visualize positions for a selected asset:\n",
    "aapl_frac = weights[\"NASDAQ:AAPL\"]\n",
    "qngraph.make_plot(aapl_frac.index, aapl_frac, name= \"aapl\")"
   ]
  },
  {
   "cell_type": "markdown",
   "metadata": {},
   "source": [
    "# Statistics"
   ]
  },
  {
   "cell_type": "code",
   "execution_count": null,
   "metadata": {},
   "outputs": [],
   "source": [
    "#convert to xarray before statistics calculation\n",
    "\n",
    "output = weights.unstack().to_xarray()\n",
    "output "
   ]
  },
  {
   "cell_type": "code",
   "execution_count": null,
   "metadata": {},
   "outputs": [],
   "source": [
    "# Calculate statistics on a rolling basis.\n",
    "\n",
    "# Transactions are punished with slippage equal to a given\n",
    "# fraction of ATR14 (read more about slippage in our full\n",
    "# Strategy Buy and Hold template). We evaluate submissions\n",
    "# using 5% of ATR14 for slippage.\n",
    "\n",
    "# Mean return, volatility and Sharpe ratio are computed on a\n",
    "# rolling basis using a lookback period of 3 years.\n",
    "\n",
    "stat = qnstats.calc_stat(data, output, slippage_factor=0.05)\n",
    "\n",
    "display(stat.to_pandas().tail())"
   ]
  },
  {
   "cell_type": "code",
   "execution_count": null,
   "metadata": {},
   "outputs": [],
   "source": [
    "def print_stat(stat):\n",
    "    \"\"\"Prints selected statistical key indicators:\n",
    "       - the global Sharpe ratio of the strategy;\n",
    "       - the global mean profit;\n",
    "       - the global volatility;\n",
    "       - the maximum drawdown.\n",
    "\n",
    "       Note that Sharpe ratio, mean profit and volatility\n",
    "       apply to  max simulation period, and not to the\n",
    "       rolling basis of 3 years.\n",
    "    \"\"\"\n",
    "\n",
    "    days = len(stat.coords[\"time\"])\n",
    "    \n",
    "    returns = stat.loc[:, \"relative_return\"]\n",
    "\n",
    "    equity = stat.loc[:, \"equity\"]\n",
    "    \n",
    "    sharpe_ratio = qnstats.calc_sharpe_ratio_annualized(\n",
    "        returns,\n",
    "        max_periods=days,\n",
    "        min_periods=days).to_pandas().values[-1]\n",
    "\n",
    "    profit = (qnstats.calc_mean_return_annualized(\n",
    "        returns,\n",
    "        max_periods=days,\n",
    "        min_periods=days).to_pandas().values[-1])*100.0\n",
    "\n",
    "    volatility = (qnstats.calc_volatility_annualized(\n",
    "        returns,\n",
    "        max_periods=days,\n",
    "        min_periods=days).to_pandas().values[-1])*100.0\n",
    "\n",
    "    max_ddown = (qnstats.calc_max_drawdown(\n",
    "        qnstats.calc_underwater(equity)).to_pandas().values[-1])*100.0\n",
    "\n",
    "    print(\"Sharpe Ratio         : \", \"{0:.3f}\".format(sharpe_ratio))\n",
    "    print(\"Mean Return [%]      : \", \"{0:.3f}\".format(profit))\n",
    "    print(\"Volatility [%]       : \", \"{0:.3f}\".format(volatility))\n",
    "    print(\"Maximum Drawdown [%] : \", \"{0:.3f}\".format(-max_ddown))\n",
    "\n",
    "print_stat(stat)"
   ]
  },
  {
   "cell_type": "code",
   "execution_count": null,
   "metadata": {},
   "outputs": [],
   "source": [
    "# show plot with profit and losses:\n",
    "performance = stat.to_pandas()[\"equity\"]\n",
    "qngraph.make_plot_filled(performance.index, performance, name=\"PnL (Equity)\", type=\"log\")"
   ]
  },
  {
   "cell_type": "code",
   "execution_count": null,
   "metadata": {},
   "outputs": [],
   "source": [
    "# show underwater chart:\n",
    "UWchart = stat.to_pandas()[\"underwater\"]\n",
    "qngraph.make_plot_filled(UWchart.index, UWchart, color=\"darkred\", name=\"Underwater Chart\", range_max=0)"
   ]
  },
  {
   "cell_type": "code",
   "execution_count": null,
   "metadata": {},
   "outputs": [],
   "source": [
    "# show rolling Sharpe ratio on a 3-year basis:\n",
    "SRchart = stat.to_pandas()[\"sharpe_ratio\"].iloc[(252*3):]\n",
    "qngraph.make_plot_filled(SRchart.index, SRchart, color=\"#F442C5\", name=\"Rolling SR\")"
   ]
  },
  {
   "cell_type": "code",
   "execution_count": null,
   "metadata": {
    "scrolled": true
   },
   "outputs": [],
   "source": [
    "# show bias chart:\n",
    "biaschart = stat.to_pandas()[\"bias\"]\n",
    "qngraph.make_plot_filled(biaschart.index, biaschart, color=\"#5A6351\", name=\"Bias Chart\")"
   ]
  },
  {
   "cell_type": "markdown",
   "metadata": {},
   "source": [
    "# Improvement"
   ]
  },
  {
   "cell_type": "code",
   "execution_count": null,
   "metadata": {},
   "outputs": [],
   "source": [
    "# Well, sharpe ratio of this strategy is low...\n",
    "\n",
    "stat.sel(field='sharpe_ratio').to_pandas().tail()"
   ]
  },
  {
   "cell_type": "code",
   "execution_count": null,
   "metadata": {},
   "outputs": [],
   "source": [
    "# Let's try to improve it using statistics per asset.\n",
    "# At first, calculate stats per asset:\n",
    "\n",
    "stat_per_asset = qnstats.calc_stat(data, output, slippage_factor=0.05, per_asset=True)\n",
    "stat_per_asset.dims"
   ]
  },
  {
   "cell_type": "code",
   "execution_count": null,
   "metadata": {},
   "outputs": [],
   "source": [
    "# For example, AAPL have good sharpe ratio:\n",
    "stat_per_asset.sel(asset='NASDAQ:AAPL', field='sharpe_ratio').to_pandas().tail()"
   ]
  },
  {
   "cell_type": "code",
   "execution_count": null,
   "metadata": {},
   "outputs": [],
   "source": [
    "# Let's build the output only with \"good\" \"short term\" and \"long term\" Sharpe ratios.\n",
    "# Sharpe ratio is \"good\" when its average more then 0.\n",
    "#\n",
    "# This is only example of a heuristic which can improve you strategy \n",
    "# using statistics per asset. \n",
    "# I believe that you can invent a new better way to do it =)\n",
    "\n",
    "short_term = 43\n",
    "long_term = short_term*3\n",
    "\n",
    "stat_per_asset_short_term = qnstats.calc_stat(data, output, max_periods=short_term, per_asset = True)\n",
    "stat_per_asset_long_term = qnstats.calc_stat(data, output, max_periods=long_term, per_asset = True)\n",
    "\n",
    "avg_short_term_sr = stat_per_asset_short_term.sel(field='sharpe_ratio')\\\n",
    "    .rolling(time=short_term, min_periods=short_term*19//20)\\\n",
    "    .mean() # min periods allows to pass small holes in data\n",
    "avg_long_term_sr = stat_per_asset_long_term.sel(field='sharpe_ratio')\\\n",
    "    .rolling(time=long_term, min_periods=long_term*19//20)\\\n",
    "    .mean()\n",
    "\n",
    "output2 = output\n",
    "output2 = output2.where(avg_short_term_sr > 0)\n",
    "output2 = output2.where(avg_long_term_sr > 0)\n",
    "output2 = output2 / abs(output2).sum('asset')"
   ]
  },
  {
   "cell_type": "code",
   "execution_count": null,
   "metadata": {},
   "outputs": [],
   "source": [
    "# print stats\n",
    "\n",
    "stat2 = qnstats.calc_stat(data, output2)\n",
    "\n",
    "print(\"Old stats:\")\n",
    "print(\"-\\n3y SR:\")\n",
    "print(stat.sel(field='sharpe_ratio').to_pandas().tail())\n",
    "print(\"-\\nGlobal:\")\n",
    "print_stat(stat)\n",
    "\n",
    "print(\"---\")\n",
    "\n",
    "print(\"New stats:\")\n",
    "print(\"-\\n3y SR:\")\n",
    "print(stat2.sel(field='sharpe_ratio').to_pandas().tail())\n",
    "print(\"-\\nGlobal:\")\n",
    "print_stat(stat2)"
   ]
  },
  {
   "cell_type": "markdown",
   "metadata": {},
   "source": [
    "Well, it only adds +0.18(\\~23%) to the Sharpe ratio of 3 years, but adds +0.2(\\~34%) to the Sharpe Ratio of the entire data period. Sometimes it can allow you to go through the Sharpe ratio filter or win a competition."
   ]
  },
  {
   "cell_type": "markdown",
   "metadata": {},
   "source": [
    "## Checks"
   ]
  },
  {
   "cell_type": "code",
   "execution_count": null,
   "metadata": {},
   "outputs": [],
   "source": [
    "# Use the function from 'qnfl' ensures that no forward-looking\n",
    "# is taking place. \n",
    "def strategy():\n",
    "    \"\"\"\n",
    "    it is the same strtegy, but implemented with xarray\n",
    "    Entire code of strategy calculation is collected here.\n",
    "    \"\"\"\n",
    "\n",
    "    # data loading\n",
    "    data = qndata.load_data(\n",
    "        min_date=\"2010-01-01\", \n",
    "        # max_date=\"2019-08-13\", # You should not limit max_date for final calculations!\n",
    "        dims=(\"time\", \"field\", \"asset\"), \n",
    "        forward_order=True\n",
    "    )\n",
    "    \n",
    "    # buy and hold strategy output calculation\n",
    "    output1 = data.loc[::,\"is_liquid\",:]  \n",
    "    output1 = output1 / abs(output1).sum('asset')\n",
    "    \n",
    "    # output improvement which use statistics per asset \n",
    "    short_term = 43\n",
    "    long_term = short_term*3\n",
    "\n",
    "    stat_per_asset_short_term = qnstats.calc_stat(data, output1, max_periods=short_term, per_asset = True)\n",
    "    stat_per_asset_long_term = qnstats.calc_stat(data, output1, max_periods=long_term, per_asset = True)\n",
    "\n",
    "    avg_short_term_sr = stat_per_asset_short_term.sel(field='sharpe_ratio')\\\n",
    "        .rolling(time=short_term, min_periods=short_term*19//20)\\\n",
    "        .mean() # min periods allows to pass small holes in data\n",
    "    avg_long_term_sr = stat_per_asset_long_term.sel(field='sharpe_ratio')\\\n",
    "        .rolling(time=long_term, min_periods=long_term*19//20)\\\n",
    "        .mean()\n",
    "\n",
    "    output2 = output\n",
    "    output2 = output2.where(avg_short_term_sr > 0)\n",
    "    output2 = output2.where(avg_long_term_sr > 0)\n",
    "    output2 = output2 / abs(output2).sum('asset')\n",
    "    \n",
    "    return output2\n",
    "\n",
    "# This function runs strategy twice on the different periods: \n",
    "# the entire data and data the with a cropped last half year.\n",
    "# After that this function compares outputs. \n",
    "# Overlapped outputs must be same.\n",
    "output_final = qnfl.load_data_calc_output_and_check_forward_looking(strategy)"
   ]
  },
  {
   "cell_type": "code",
   "execution_count": null,
   "metadata": {},
   "outputs": [],
   "source": [
    "# correlation check\n",
    "# your strategy should not correlate with other strategies before submission\n",
    "qnstats.print_correlation(output_final, data)"
   ]
  },
  {
   "cell_type": "markdown",
   "metadata": {},
   "source": [
    "# Write output"
   ]
  },
  {
   "cell_type": "code",
   "execution_count": null,
   "metadata": {},
   "outputs": [],
   "source": [
    "# Finally, we write the last mandatory step for submission,\n",
    "# namely writing output to file:\n",
    "\n",
    "qndata.write_output(output_final)"
   ]
  },
  {
   "cell_type": "markdown",
   "metadata": {},
   "source": [
    "At this stage code is ready for submission. Just click on the submission button in your account page and we will evaluate your strategy live on our servers!\n",
    "\n",
    "For speeding up evaluation, you can consider submitting a copy with only relevant steps and excluding plots and checks. Your code in the final notebook you submit can be as simple as the following:"
   ]
  },
  {
   "cell_type": "code",
   "execution_count": null,
   "metadata": {},
   "outputs": [],
   "source": [
    "import xarray as xr\n",
    "import qnt.data as qndata\n",
    "\n",
    "# data loading\n",
    "data = qndata.load_data(\n",
    "    min_date=\"2010-01-01\", \n",
    "    # max_date=\"2019-08-13\", # You should not limit max_date for final calculations\n",
    "    dims=(\"time\", \"field\", \"asset\"), \n",
    "    forward_order=True\n",
    ")\n",
    "\n",
    "# buy and hold strategy output calculation\n",
    "output1 = data.loc[::,\"is_liquid\",:]  \n",
    "output1 = output1 / abs(output1).sum('asset')\n",
    "\n",
    "# output improvement which use statistics per asset \n",
    "short_term = 43\n",
    "long_term = short_term*3\n",
    "\n",
    "stat_per_asset_short_term = qnstats.calc_stat(data, output1, max_periods=short_term, per_asset = True)\n",
    "stat_per_asset_long_term = qnstats.calc_stat(data, output1, max_periods=long_term, per_asset = True)\n",
    "\n",
    "avg_short_term_sr = stat_per_asset_short_term.sel(field='sharpe_ratio')\\\n",
    "    .rolling(time=short_term, min_periods=short_term*19//20)\\\n",
    "    .mean() # min periods allows to pass small holes in data\n",
    "avg_long_term_sr = stat_per_asset_long_term.sel(field='sharpe_ratio')\\\n",
    "    .rolling(time=long_term, min_periods=long_term*19//20)\\\n",
    "    .mean()\n",
    "\n",
    "output2 = output1\n",
    "output2 = output2.where(avg_short_term_sr > 0)\n",
    "output2 = output2.where(avg_long_term_sr > 0)\n",
    "output2 = output2 / abs(output2).sum('asset')\n",
    "\n",
    "qndata.write_output(output2)"
   ]
  },
  {
   "cell_type": "code",
   "execution_count": null,
   "metadata": {},
   "outputs": [],
   "source": []
  }
 ],
 "metadata": {
  "kernelspec": {
   "display_name": "Python 3",
   "language": "python",
   "name": "python3"
  },
  "language_info": {
   "codemirror_mode": {
    "name": "ipython",
    "version": 3
   },
   "file_extension": ".py",
   "mimetype": "text/x-python",
   "name": "python",
   "nbconvert_exporter": "python",
   "pygments_lexer": "ipython3",
   "version": "3.7.3"
  }
 },
 "nbformat": 4,
 "nbformat_minor": 2
}
